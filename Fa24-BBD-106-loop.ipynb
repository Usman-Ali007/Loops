{
 "cells": [
  {
   "cell_type": "code",
   "execution_count": 1,
   "id": "c4e38f41-0c9f-4e9c-bb55-ac6a8173b0c4",
   "metadata": {},
   "outputs": [
    {
     "name": "stdout",
     "output_type": "stream",
     "text": [
      "1\n",
      "2\n",
      "3\n",
      "4\n",
      "5\n",
      "6\n",
      "7\n",
      "8\n",
      "9\n",
      "10\n"
     ]
    }
   ],
   "source": [
    "#Question 1\n",
    "for x in range(1, 11):\n",
    "    print(x)\n"
   ]
  },
  {
   "cell_type": "code",
   "execution_count": 2,
   "id": "7cdd1647-cee3-4bc3-8c5f-6f26b9f0635e",
   "metadata": {},
   "outputs": [
    {
     "name": "stdout",
     "output_type": "stream",
     "text": [
      "Sum of first 20 natural numbers is: 210\n"
     ]
    }
   ],
   "source": [
    "#Question 2\n",
    "total = 0\n",
    "x = 1\n",
    "while x <= 20:\n",
    "    total += x\n",
    "    x += 1\n",
    "print(\"Sum of first 20 natural numbers is:\", total)\n"
   ]
  },
  {
   "cell_type": "code",
   "execution_count": 3,
   "id": "5e14909a-fdd2-442c-889d-c665ade062b1",
   "metadata": {},
   "outputs": [
    {
     "name": "stdin",
     "output_type": "stream",
     "text": [
      "Enter a string:  Usman\n"
     ]
    },
    {
     "name": "stdout",
     "output_type": "stream",
     "text": [
      "U\n",
      "s\n",
      "m\n",
      "a\n",
      "n\n"
     ]
    }
   ],
   "source": [
    "#Question 3\n",
    "string = input(\"Enter a string: \")\n",
    "for char in string:\n",
    "    print(char)"
   ]
  },
  {
   "cell_type": "code",
   "execution_count": 4,
   "id": "29f0d164-e36c-4915-8892-df53f880916e",
   "metadata": {},
   "outputs": [
    {
     "name": "stdin",
     "output_type": "stream",
     "text": [
      "Enter a number to count down from:  9\n"
     ]
    },
    {
     "name": "stdout",
     "output_type": "stream",
     "text": [
      "9\n",
      "8\n",
      "7\n",
      "6\n",
      "5\n",
      "4\n",
      "3\n",
      "2\n",
      "1\n",
      "0\n"
     ]
    }
   ],
   "source": [
    "#Question 4\n",
    "number = int(input(\"Enter a number to count down from: \"))\n",
    "while number >= 0:\n",
    "    print(number)\n",
    "    number -= 1"
   ]
  },
  {
   "cell_type": "code",
   "execution_count": 5,
   "id": "3cb2ae4a-5e2d-45c8-9c16-d6724d1e1d77",
   "metadata": {},
   "outputs": [
    {
     "name": "stdout",
     "output_type": "stream",
     "text": [
      "2\n",
      "4\n",
      "6\n",
      "8\n",
      "10\n",
      "12\n",
      "14\n",
      "16\n",
      "18\n",
      "20\n",
      "22\n",
      "24\n",
      "26\n",
      "28\n",
      "30\n",
      "32\n",
      "34\n",
      "36\n",
      "38\n",
      "40\n",
      "42\n",
      "44\n",
      "46\n",
      "48\n",
      "50\n"
     ]
    }
   ],
   "source": [
    "#Question 5\n",
    "for x in range(1, 51):\n",
    "    if x % 2 == 0:\n",
    "        print(x)"
   ]
  },
  {
   "cell_type": "code",
   "execution_count": 6,
   "id": "a1733e99-4086-4f3f-9bdd-d1e7098dfb57",
   "metadata": {},
   "outputs": [
    {
     "name": "stdin",
     "output_type": "stream",
     "text": [
      "Enter a number:  1\n"
     ]
    },
    {
     "name": "stdout",
     "output_type": "stream",
     "text": [
      "1 x 1 = 1\n",
      "1 x 2 = 2\n",
      "1 x 3 = 3\n",
      "1 x 4 = 4\n",
      "1 x 5 = 5\n",
      "1 x 6 = 6\n",
      "1 x 7 = 7\n",
      "1 x 8 = 8\n",
      "1 x 9 = 9\n",
      "1 x 10 = 10\n"
     ]
    }
   ],
   "source": [
    "#Question 6\n",
    "number = int(input(\"Enter a number: \"))\n",
    "for x in range(1, 11):\n",
    "    print(f\"{number} x {x} = {number * x}\")"
   ]
  },
  {
   "cell_type": "code",
   "execution_count": 8,
   "id": "a0b7075a-8fd8-4a71-8043-83a53af414b8",
   "metadata": {},
   "outputs": [
    {
     "name": "stdin",
     "output_type": "stream",
     "text": [
      "Enter the start number:  12\n",
      "Enter the end number:  21\n"
     ]
    },
    {
     "name": "stdout",
     "output_type": "stream",
     "text": [
      "Sum of all odd numbers in the range: 5\n"
     ]
    }
   ],
   "source": [
    "#Question 8\n",
    "start = int(input(\"Enter the start number: \"))\n",
    "end = int(input(\"Enter the end number: \"))\n",
    "total = 0\n",
    "i=1\n",
    "for x in range(start, end + 1):\n",
    "    if x % 2 != 0:\n",
    "        total += i\n",
    "print(\"Sum of all odd numbers in the range:\", total)"
   ]
  },
  {
   "cell_type": "code",
   "execution_count": 9,
   "id": "433b4e14-2a25-4a7a-81ea-9ab6049c4d64",
   "metadata": {},
   "outputs": [
    {
     "name": "stdout",
     "output_type": "stream",
     "text": [
      "15\n",
      "30\n",
      "45\n",
      "60\n",
      "75\n",
      "90\n"
     ]
    }
   ],
   "source": [
    "#Question 9\n",
    "for x in range(1, 101):\n",
    "    if x % 3 == 0 and x % 5 == 0:\n",
    "        print(x)\n",
    "        "
   ]
  },
  {
   "cell_type": "code",
   "execution_count": 10,
   "id": "976f8928-dfaa-483e-b762-0123b534f3dc",
   "metadata": {},
   "outputs": [
    {
     "name": "stdout",
     "output_type": "stream",
     "text": [
      "0\n",
      "1\n",
      "1\n",
      "2\n",
      "3\n",
      "5\n",
      "8\n",
      "13\n",
      "21\n",
      "34\n"
     ]
    }
   ],
   "source": [
    "#Question 10\n",
    "a, b = 0, 1\n",
    "count = 0\n",
    "while count < 10:\n",
    "    print(a)\n",
    "    a, b = b, a + b\n",
    "    count += 1\n",
    "\n"
   ]
  },
  {
   "cell_type": "code",
   "execution_count": 11,
   "id": "6d7db261-105f-4def-8342-e9ea1286127c",
   "metadata": {},
   "outputs": [
    {
     "name": "stdin",
     "output_type": "stream",
     "text": [
      "Enter a number:  21\n"
     ]
    },
    {
     "name": "stdout",
     "output_type": "stream",
     "text": [
      "Sum of digits: 3\n"
     ]
    }
   ],
   "source": [
    "#Question 11\n",
    "num = int(input(\"Enter a number: \"))\n",
    "total = 0\n",
    "while num > 0:\n",
    "    total += num % 10\n",
    "    num //= 10\n",
    "print(\"Sum of digits:\", total)"
   ]
  },
  {
   "cell_type": "code",
   "execution_count": 12,
   "id": "666c8952-ed71-4cec-909f-984820abf042",
   "metadata": {},
   "outputs": [
    {
     "name": "stdin",
     "output_type": "stream",
     "text": [
      "Enter the principal amount:  213\n",
      "Enter the rate (in %):  21\n"
     ]
    },
    {
     "name": "stdout",
     "output_type": "stream",
     "text": [
      "Year 1: Compound Interest = 44.73000000000002\n",
      "Year 2: Compound Interest = 98.85329999999999\n",
      "Year 3: Compound Interest = 164.342493\n",
      "Year 4: Compound Interest = 243.58441652999994\n",
      "Year 5: Compound Interest = 339.46714400129997\n"
     ]
    }
   ],
   "source": [
    "#Question 12\n",
    "principal = float(input(\"Enter the principal amount: \"))\n",
    "rate = float(input(\"Enter the rate (in %): \"))\n",
    "time = 5\n",
    "for year in range(1, time + 1):\n",
    "    amount = principal * (1 + rate / 100) ** year\n",
    "    interest = amount - principal\n",
    "    print(f\"Year {year}: Compound Interest = {interest}\")\n"
   ]
  },
  {
   "cell_type": "code",
   "execution_count": 13,
   "id": "4eada725-2f66-4279-bb6f-f64da2247354",
   "metadata": {},
   "outputs": [
    {
     "name": "stdin",
     "output_type": "stream",
     "text": [
      "Enter a string:  sdfsa\n"
     ]
    },
    {
     "name": "stdout",
     "output_type": "stream",
     "text": [
      "Reversed string: asfds\n"
     ]
    }
   ],
   "source": [
    "#Question 13\n",
    "string = input(\"Enter a string: \")\n",
    "reversed_string = \"\"\n",
    "for char in string:\n",
    "    reversed_string = char + reversed_string\n",
    "print(\"Reversed string:\", reversed_string)"
   ]
  },
  {
   "cell_type": "code",
   "execution_count": 14,
   "id": "d2f67e98-5aaa-4562-b030-84aadd13226a",
   "metadata": {},
   "outputs": [
    {
     "name": "stdin",
     "output_type": "stream",
     "text": [
      "Enter numbers separated by spaces:  23 1231 213 231\n"
     ]
    },
    {
     "name": "stdout",
     "output_type": "stream",
     "text": [
      "Minimum: 23 Maximum: 1231\n"
     ]
    }
   ],
   "source": [
    "#Question 14\n",
    "numbers = list(map(int, input(\"Enter numbers separated by spaces: \").split()))\n",
    "minimum_number, maximum_number = numbers[0], numbers[0]\n",
    "for num in numbers:\n",
    "    if num < minimum_number:\n",
    "        minimum_number = num\n",
    "    if num > maximum_number:\n",
    "        maximum_number = num\n",
    "print(\"Minimum:\", minimum_number, \"Maximum:\", maximum_number)"
   ]
  },
  {
   "cell_type": "code",
   "execution_count": 15,
   "id": "b097aa93-a025-47ac-a51e-684c464a865c",
   "metadata": {},
   "outputs": [
    {
     "name": "stdin",
     "output_type": "stream",
     "text": [
      "Guess the secret number:  7\n"
     ]
    },
    {
     "name": "stdout",
     "output_type": "stream",
     "text": [
      "Congratulations! You've guessed the correct number.\n"
     ]
    }
   ],
   "source": [
    "#Question 15\n",
    "secret_number = 7\n",
    "guess = None\n",
    "while guess != secret_number:\n",
    "    guess = int(input(\"Guess the secret number: \"))\n",
    "    if guess < secret_number:\n",
    "        print(\"Too low!\")\n",
    "    elif guess > secret_number:\n",
    "        print(\"Too high!\")\n",
    "print(\"Congratulations! You've guessed the correct number.\")"
   ]
  },
  {
   "cell_type": "code",
   "execution_count": 16,
   "id": "4c93ab06-5563-40c1-93fd-de4fe7cb5c32",
   "metadata": {},
   "outputs": [
    {
     "name": "stdout",
     "output_type": "stream",
     "text": [
      "11\n",
      "13\n",
      "17\n",
      "19\n",
      "23\n",
      "29\n",
      "31\n",
      "37\n",
      "41\n",
      "43\n",
      "47\n"
     ]
    }
   ],
   "source": [
    "#Question 16\n",
    "for num in range(10, 51):\n",
    "    is_prime = True\n",
    "    if num > 1:\n",
    "        for i in range(2, int(num**0.5) + 1):\n",
    "            if num % i == 0:\n",
    "                is_prime = False\n",
    "                break\n",
    "        if is_prime:\n",
    "            print(num)\n"
   ]
  },
  {
   "cell_type": "code",
   "execution_count": 17,
   "id": "db7b8173-a711-4d04-b3c9-6c4320d0d522",
   "metadata": {},
   "outputs": [
    {
     "name": "stdin",
     "output_type": "stream",
     "text": [
      "Enter a number:  21\n"
     ]
    },
    {
     "name": "stdout",
     "output_type": "stream",
     "text": [
      "21 is not a palindrome.\n"
     ]
    }
   ],
   "source": [
    "#Question 17\n",
    "num = int(input(\"Enter a number: \"))\n",
    "original_num = num\n",
    "reversed_num = 0\n",
    "while num > 0:\n",
    "    digit = num % 10\n",
    "    reversed_num = reversed_num * 10 + digit\n",
    "    num //= 10\n",
    "if original_num == reversed_num:\n",
    "    print(f\"{original_num} is a palindrome.\")\n",
    "else:\n",
    "    print(f\"{original_num} is not a palindrome.\")"
   ]
  },
  {
   "cell_type": "code",
   "execution_count": 18,
   "id": "95313b92-46c9-4cc9-a7c3-9fc55f4fa182",
   "metadata": {},
   "outputs": [
    {
     "name": "stdout",
     "output_type": "stream",
     "text": [
      "Item: macbook\n",
      "Selling 1 macbook, remaining: 4\n",
      "Selling 1 macbook, remaining: 3\n",
      "Selling 1 macbook, remaining: 2\n",
      "Selling 1 macbook, remaining: 1\n",
      "Selling 1 macbook, remaining: 0\n",
      "macbook is now sold out!\n",
      "Item: ipad\n",
      "Selling 1 ipad, remaining: 2\n",
      "Selling 1 ipad, remaining: 1\n",
      "Selling 1 ipad, remaining: 0\n",
      "ipad is now sold out!\n",
      "Item: iphone\n",
      "Selling 1 iphone, remaining: 3\n",
      "Selling 1 iphone, remaining: 2\n",
      "Selling 1 iphone, remaining: 1\n",
      "Selling 1 iphone, remaining: 0\n",
      "iphone is now sold out!\n"
     ]
    }
   ],
   "source": [
    "#Question 18\n",
    "inventory = {\"macbook\": 5, \"ipad\": 3, \"iphone\": 4}\n",
    "\n",
    "for item, quantity in inventory.items():\n",
    "    print(f\"Item: {item}\")\n",
    "    while quantity > 0:\n",
    "        print(f\"Selling 1 {item}, remaining: {quantity - 1}\")\n",
    "        quantity -= 1\n",
    "    print(f\"{item} is now sold out!\")"
   ]
  },
  {
   "cell_type": "code",
   "execution_count": 19,
   "id": "189ac218-98ff-45a7-a8fb-5d3cd44ff823",
   "metadata": {},
   "outputs": [
    {
     "ename": "SyntaxError",
     "evalue": "leading zeros in decimal integer literals are not permitted; use an 0o prefix for octal integers (343210076.py, line 3)",
     "output_type": "error",
     "traceback": [
      "\u001b[1;36m  Cell \u001b[1;32mIn[19], line 3\u001b[1;36m\u001b[0m\n\u001b[1;33m    expenses = [160, 400, 100, 320, 450, 600, 01, 750]\u001b[0m\n\u001b[1;37m                                              ^\u001b[0m\n\u001b[1;31mSyntaxError\u001b[0m\u001b[1;31m:\u001b[0m leading zeros in decimal integer literals are not permitted; use an 0o prefix for octal integers\n"
     ]
    }
   ],
   "source": [
    "#Question 19\n",
    "\n",
    "expenses = [160, 400, 100, 320, 450, 600, 01, 750]\n",
    "budget = 5000\n",
    "\n",
    "total_cost = 0\n",
    "for expense in expenses:\n",
    "    total_cost += expense\n",
    "\n",
    "print(\"Total project cost:\", total_cost)\n",
    "\n",
    "covered_expenses = 0\n",
    "remaining_budget = budget\n",
    "i = 0\n",
    "\n",
    "while remaining_budget > 0 and i < len(expenses):\n",
    "    if remaining_budget >= expenses[i]:\n",
    "        remaining_budget -= expenses[i]\n",
    "        covered_expenses += 1\n",
    "    else:\n",
    "        break\n",
    "    i += 1\n",
    "\n",
    "print(\"Expenses covered by the budget:\", covered_expenses)\n",
    "print(\"Remaining budget after deductions:\", remaining_budget)"
   ]
  },
  {
   "cell_type": "code",
   "execution_count": 1,
   "id": "26cc3cfa-0bb4-4cf8-a489-cdef011204a8",
   "metadata": {},
   "outputs": [
    {
     "name": "stdout",
     "output_type": "stream",
     "text": [
      "Usman attended the session.\n",
      "Ali missed the session.\n",
      "Reminder 1 sent to Ali\n",
      "Reminder 2 sent to Ali\n",
      "Ali showed up after reminder 2.\n",
      "Shaheer attended the session.\n",
      "Abdullah missed the session.\n",
      "Reminder 1 sent to Abdullah\n",
      "Abdullah showed up after reminder 1.\n"
     ]
    }
   ],
   "source": [
    "#Question 20\n",
    "import random\n",
    "\n",
    "employees = [\"Usman\", \"Ali\", \"Shaheer\", \"Abdullah\"]\n",
    "\n",
    "for employee in employees:\n",
    "    attended = random.choice([True, False])\n",
    "    reminder_count = 0\n",
    "    if not attended:\n",
    "        print(f\"{employee} missed the session.\")\n",
    "        while reminder_count < 3:\n",
    "            print(f\"Reminder {reminder_count + 1} sent to {employee}\")\n",
    "            reminder_count += 1\n",
    "\n",
    "            if random.choice([True, False]):\n",
    "                print(f\"{employee} showed up after reminder {reminder_count}.\")\n",
    "                break\n",
    "        else:\n",
    "            print(f\"{employee} remained absent after 3 reminders.\")\n",
    "    else:\n",
    "        print(f\"{employee} attended the session.\")\n"
   ]
  },
  {
   "cell_type": "code",
   "execution_count": null,
   "id": "387e1d28-7ef6-4bf6-9663-0d978e6d2cdc",
   "metadata": {},
   "outputs": [
    {
     "name": "stdout",
     "output_type": "stream",
     "text": [
      "Transaction 1 with amount 150\n"
     ]
    },
    {
     "name": "stdin",
     "output_type": "stream",
     "text": [
      "Is this information correct? (y/n):  21\n"
     ]
    },
    {
     "name": "stdout",
     "output_type": "stream",
     "text": [
      "Please re-enter the transaction information.\n",
      "Transaction 1 with amount 150\n"
     ]
    },
    {
     "name": "stdin",
     "output_type": "stream",
     "text": [
      "Is this information correct? (y/n):  42\n"
     ]
    },
    {
     "name": "stdout",
     "output_type": "stream",
     "text": [
      "Please re-enter the transaction information.\n",
      "Transaction 1 with amount 150\n"
     ]
    },
    {
     "name": "stdin",
     "output_type": "stream",
     "text": [
      "Is this information correct? (y/n):  n\n"
     ]
    },
    {
     "name": "stdout",
     "output_type": "stream",
     "text": [
      "Please re-enter the transaction information.\n",
      "Transaction 1 with amount 150\n"
     ]
    },
    {
     "name": "stdin",
     "output_type": "stream",
     "text": [
      "Is this information correct? (y/n):  y\n"
     ]
    },
    {
     "name": "stdout",
     "output_type": "stream",
     "text": [
      "Transaction 2 with amount 300\n"
     ]
    },
    {
     "name": "stdin",
     "output_type": "stream",
     "text": [
      "Is this information correct? (y/n):  y\n"
     ]
    },
    {
     "name": "stdout",
     "output_type": "stream",
     "text": [
      "Transaction 3 with amount 250\n"
     ]
    }
   ],
   "source": [
    "#Question 21\n",
    "transactions = [\n",
    "    {\"id\": 1, \"amount\": 150},\n",
    "    {\"id\": 2, \"amount\": 300},\n",
    "    {\"id\": 3, \"amount\": 250}\n",
    "]\n",
    "\n",
    "sales_report = []\n",
    "\n",
    "for transaction in transactions:\n",
    "    confirmation = \"\"\n",
    "    while confirmation.lower() != \"y\":\n",
    "        print(f\"Transaction {transaction['id']} with amount {transaction['amount']}\")\n",
    "        confirmation = input(\"Is this information correct? (y/n): \")\n",
    "        if confirmation.lower() != \"y\":\n",
    "            print(\"Please re-enter the transaction information.\")\n",
    "    sales_report.append(transaction)\n",
    "\n",
    "print(\"Sales Report Generated:\", sales_report)\n"
   ]
  },
  {
   "cell_type": "code",
   "execution_count": 2,
   "id": "a8b14693-a5f1-4bce-b017-d8de02644505",
   "metadata": {},
   "outputs": [
    {
     "name": "stdout",
     "output_type": "stream",
     "text": [
      "Working on Issue 1, attempt 1\n",
      "Working on Issue 1, attempt 2\n",
      "Working on Issue 1, attempt 3\n",
      "Issue 1 unresolved after 3 attempts.\n",
      "Working on Issue 2, attempt 1\n",
      "Issue 2 resolved in 1 attempts.\n",
      "Working on Issue 3, attempt 1\n",
      "Issue 3 resolved in 1 attempts.\n",
      "Working on Issue 4, attempt 1\n",
      "Working on Issue 4, attempt 2\n",
      "Issue 4 resolved in 2 attempts.\n",
      "Working on Issue 5, attempt 1\n",
      "Working on Issue 5, attempt 2\n",
      "Issue 5 resolved in 2 attempts.\n"
     ]
    }
   ],
   "source": [
    "#Question 22\n",
    "customer_issues = [\"Issue 1\", \"Issue 2\", \"Issue 3\", \"Issue 4\", \"Issue 5\"]\n",
    "resolved_count = 0\n",
    "\n",
    "for issue in customer_issues[:10]:\n",
    "    attempts = 0\n",
    "    while attempts < 3:\n",
    "        print(f\"Working on {issue}, attempt {attempts + 1}\")\n",
    "        attempts += 1\n",
    "\n",
    "        resolved = random.choice([True, False])\n",
    "        if resolved:\n",
    "            print(f\"{issue} resolved in {attempts} attempts.\")\n",
    "            resolved_count += 1\n",
    "            break\n",
    "    else:\n",
    "        print(f\"{issue} unresolved after 3 attempts.\")"
   ]
  },
  {
   "cell_type": "code",
   "execution_count": 4,
   "id": "f19502c1-fb53-46da-83de-d562a1c2a29f",
   "metadata": {},
   "outputs": [
    {
     "name": "stdout",
     "output_type": "stream",
     "text": [
      "Usman's final grade: 95\n",
      "Ali's final grade: 85\n",
      "Shaheer's final grade: 88\n",
      "Abdullah's final grade: 100\n"
     ]
    }
   ],
   "source": [
    "#Question 23\n",
    "student_scores = {\"Usman\": 95, \"Ali\": 85, \"Shaheer\": 88, \"Abdullah\": 105}\n",
    "\n",
    "for student, score in student_scores.items():\n",
    "    while score > 100:\n",
    "        score -= 5\n",
    "    print(f\"{student}'s final grade: {score}\")"
   ]
  },
  {
   "cell_type": "code",
   "execution_count": 5,
   "id": "9dc68e63-a3b1-45bd-8b15-028abc3776a8",
   "metadata": {},
   "outputs": [
    {
     "name": "stdin",
     "output_type": "stream",
     "text": [
      "Enter password:  Usman\n"
     ]
    },
    {
     "name": "stdout",
     "output_type": "stream",
     "text": [
      "Incorrect password.\n"
     ]
    },
    {
     "name": "stdin",
     "output_type": "stream",
     "text": [
      "Enter password:  idk\n"
     ]
    },
    {
     "name": "stdout",
     "output_type": "stream",
     "text": [
      "Incorrect password.\n"
     ]
    },
    {
     "name": "stdin",
     "output_type": "stream",
     "text": [
      "Enter password:  p@ssword!@#\n"
     ]
    },
    {
     "name": "stdout",
     "output_type": "stream",
     "text": [
      "Login successful!\n"
     ]
    }
   ],
   "source": [
    "#Question 24\n",
    "secret_password = \"p@ssword!@#\"\n",
    "attempts = 0\n",
    "logged_in = False\n",
    "\n",
    "while attempts < 3:\n",
    "    password = input(\"Enter password: \")\n",
    "    if password == secret_password:\n",
    "        print(\"Login successful!\")\n",
    "        logged_in = True\n",
    "        break\n",
    "    else:\n",
    "        print(\"Incorrect password.\")\n",
    "        attempts += 1\n",
    "\n",
    "if not logged_in:\n",
    "    reset = input(\"Would you like to reset your password? (y/n): \")\n",
    "    if reset.lower() == \"y\":\n",
    "        print(\"Verifying reset steps...\")\n",
    "        for step in [\"Verify phone\", \"Verify email\"]:\n",
    "            print(f\"{step} verified.\")\n",
    "        print(\"Password reset successfully.\")\n"
   ]
  },
  {
   "cell_type": "code",
   "execution_count": 6,
   "id": "e350adad-a2d7-42f2-ae8b-5bdf2581955d",
   "metadata": {},
   "outputs": [
    {
     "name": "stdin",
     "output_type": "stream",
     "text": [
      "Do you want to borrow Book A? (y/n):  n\n",
      "Do you want to borrow Book B? (y/n):  y\n"
     ]
    },
    {
     "name": "stdout",
     "output_type": "stream",
     "text": [
      "Book B borrowed.\n"
     ]
    },
    {
     "name": "stdin",
     "output_type": "stream",
     "text": [
      "Do you want to borrow Book C? (y/n):  n\n",
      "Do you want to borrow Book D? (y/n):  n\n",
      "Do you want to borrow Book E? (y/n):  n\n"
     ]
    },
    {
     "name": "stdout",
     "output_type": "stream",
     "text": [
      "Borrowed books: ['Book B']\n"
     ]
    }
   ],
   "source": [
    "#Question 25\n",
    "books = [\"Book A\", \"Book B\", \"Book C\", \"Book D\", \"Book E\"]\n",
    "borrowed_books = []\n",
    "limit = 5\n",
    "\n",
    "for book in books:\n",
    "    if len(borrowed_books) >= limit:\n",
    "        print(\"Borrowing limit reached.\")\n",
    "        break\n",
    "    confirm = input(f\"Do you want to borrow {book}? (y/n): \")\n",
    "    while confirm.lower() != \"y\" and confirm.lower() != \"n\":\n",
    "        confirm = input(\"Please enter 'y' or 'n': \")\n",
    "    if confirm.lower() == \"y\":\n",
    "        borrowed_books.append(book)\n",
    "        print(f\"{book} borrowed.\")\n",
    "print(\"Borrowed books:\", borrowed_books)\n"
   ]
  },
  {
   "cell_type": "code",
   "execution_count": 7,
   "id": "0e06f711-153f-4a64-928f-aad9601da5bf",
   "metadata": {},
   "outputs": [
    {
     "name": "stdin",
     "output_type": "stream",
     "text": [
      "Enter steps taken at hour 1:  21312\n"
     ]
    },
    {
     "name": "stdout",
     "output_type": "stream",
     "text": [
      "Goal reached with 21312 steps!\n",
      "Steps per hour: [21312]\n",
      "Total steps: 21312\n"
     ]
    }
   ],
   "source": [
    "#Question 26\n",
    "steps_goal = 10000\n",
    "total_steps = 0\n",
    "steps_per_hour = []\n",
    "\n",
    "for hour in range(1, 25):\n",
    "    steps = int(input(f\"Enter steps taken at hour {hour}: \"))\n",
    "    steps_per_hour.append(steps)\n",
    "    total_steps += steps\n",
    "    if total_steps >= steps_goal:\n",
    "        print(f\"Goal reached with {total_steps} steps!\")\n",
    "        break\n",
    "print(\"Steps per hour:\", steps_per_hour)\n",
    "print(\"Total steps:\", total_steps)\n"
   ]
  },
  {
   "cell_type": "code",
   "execution_count": 8,
   "id": "c8b05b41-cfd5-45a9-babe-28f787e2c332",
   "metadata": {},
   "outputs": [
    {
     "name": "stdout",
     "output_type": "stream",
     "text": [
      "Sending reminder 1 to Student A\n"
     ]
    },
    {
     "name": "stdin",
     "output_type": "stream",
     "text": [
      "Has Student A submitted? (y/n):  213\n"
     ]
    },
    {
     "name": "stdout",
     "output_type": "stream",
     "text": [
      "Sending reminder 2 to Student A\n"
     ]
    },
    {
     "name": "stdin",
     "output_type": "stream",
     "text": [
      "Has Student A submitted? (y/n):  123\n"
     ]
    },
    {
     "name": "stdout",
     "output_type": "stream",
     "text": [
      "Sending reminder 3 to Student A\n"
     ]
    },
    {
     "name": "stdin",
     "output_type": "stream",
     "text": [
      "Has Student A submitted? (y/n):  2323\n"
     ]
    },
    {
     "name": "stdout",
     "output_type": "stream",
     "text": [
      "Student A did not submit after 3 reminders.\n",
      "Sending reminder 1 to Student B\n"
     ]
    },
    {
     "name": "stdin",
     "output_type": "stream",
     "text": [
      "Has Student B submitted? (y/n):  213123\n"
     ]
    },
    {
     "name": "stdout",
     "output_type": "stream",
     "text": [
      "Sending reminder 2 to Student B\n"
     ]
    },
    {
     "name": "stdin",
     "output_type": "stream",
     "text": [
      "Has Student B submitted? (y/n):  123213\n"
     ]
    },
    {
     "name": "stdout",
     "output_type": "stream",
     "text": [
      "Sending reminder 3 to Student B\n"
     ]
    },
    {
     "name": "stdin",
     "output_type": "stream",
     "text": [
      "Has Student B submitted? (y/n):  n\n"
     ]
    },
    {
     "name": "stdout",
     "output_type": "stream",
     "text": [
      "Student B did not submit after 3 reminders.\n",
      "Sending reminder 1 to Student C\n"
     ]
    },
    {
     "name": "stdin",
     "output_type": "stream",
     "text": [
      "Has Student C submitted? (y/n):  n\n"
     ]
    },
    {
     "name": "stdout",
     "output_type": "stream",
     "text": [
      "Sending reminder 2 to Student C\n"
     ]
    },
    {
     "name": "stdin",
     "output_type": "stream",
     "text": [
      "Has Student C submitted? (y/n):  n\n"
     ]
    },
    {
     "name": "stdout",
     "output_type": "stream",
     "text": [
      "Sending reminder 3 to Student C\n"
     ]
    },
    {
     "name": "stdin",
     "output_type": "stream",
     "text": [
      "Has Student C submitted? (y/n):  n\n"
     ]
    },
    {
     "name": "stdout",
     "output_type": "stream",
     "text": [
      "Student C did not submit after 3 reminders.\n",
      "Final Submission Status: {'Student A': False, 'Student B': False, 'Student C': False}\n"
     ]
    }
   ],
   "source": [
    "#Question 27 (took help from internet, we have not studied this)\n",
    "students = [\"Student A\", \"Student B\", \"Student C\"]\n",
    "late_submissions = {student: False for student in students}\n",
    "\n",
    "for student in students:\n",
    "    reminder_count = 0\n",
    "    submitted = False\n",
    "    while reminder_count < 3 and not submitted:\n",
    "        print(f\"Sending reminder {reminder_count + 1} to {student}\")\n",
    "        reminder_count += 1\n",
    "        submitted = input(f\"Has {student} submitted? (y/n): \").lower() == \"y\"\n",
    "        if submitted:\n",
    "            late_submissions[student] = True\n",
    "            print(f\"{student} has submitted after {reminder_count} reminders.\")\n",
    "    if not submitted:\n",
    "        print(f\"{student} did not submit after 3 reminders.\")\n",
    "\n",
    "print(\"Final Submission Status:\", late_submissions)"
   ]
  },
  {
   "cell_type": "code",
   "execution_count": null,
   "id": "bc48f2ce-dad0-404a-94d5-bda15d4d9312",
   "metadata": {},
   "outputs": [],
   "source": []
  }
 ],
 "metadata": {
  "kernelspec": {
   "display_name": "Python 3 (ipykernel)",
   "language": "python",
   "name": "python3"
  },
  "language_info": {
   "codemirror_mode": {
    "name": "ipython",
    "version": 3
   },
   "file_extension": ".py",
   "mimetype": "text/x-python",
   "name": "python",
   "nbconvert_exporter": "python",
   "pygments_lexer": "ipython3",
   "version": "3.12.7"
  }
 },
 "nbformat": 4,
 "nbformat_minor": 5
}
